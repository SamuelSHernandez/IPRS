{
 "cells": [
  {
   "cell_type": "markdown",
   "metadata": {},
   "source": [
    "# dbo.HR_Division Normal Form Analysis"
   ]
  },
  {
   "cell_type": "markdown",
   "metadata": {},
   "source": [
    "## Schema"
   ]
  },
  {
   "cell_type": "markdown",
   "metadata": {},
   "source": [
    "Primary Key: Div_Code\n",
    "\n",
    "| Column Name               | Data Type    | Allows Nulls |\n",
    "|---------------------------|--------------|--------------|\n",
    "| Div_ID                    | int          | 0            |\n",
    "| **Div_Code**              | varchar(6)   | 0            |\n",
    "| Div_OrgID                 | varchar(15)  | 1            |\n",
    "| Div_Number                | char(2)      | 1            |\n",
    "| Div_AccountNumber         | varchar(25)  | 1            |\n",
    "| Div_Name                  | varcahr(80)  | 0            |\n",
    "| Div_Description           | varchar(100) | 1            |\n",
    "| Div_AddressLine1          | varchar(100) | 1            |\n",
    "| Div_AddressLine2          | varchar(100) | 1            |\n",
    "| Div_AddressLine3          | varchar(100) | 1            |\n",
    "| Div_City                  | varchar(35)  | 1            |\n",
    "| Div_StateProvence         | varchar(35)  | 1            |\n",
    "| Div_Country               | int          | 1            |\n",
    "| Div_Region                | varchar(35)  | 1            |\n",
    "| Div_Telephone             | varchar(35)  | 1            |\n",
    "| Div_Fax                   | varchar(35)  | 1            |\n",
    "| Div_TimeDiff              | tinyint      | 1            |\n",
    "| Div_President             | varchar(25)  | 1            |\n",
    "| Div_Secretary             | varchar(25)  | 1            |\n",
    "| Div_TRIPSContact          | varchar(25)  | 1            |\n",
    "| Div_EmailTRIPSContact     | varchar(25)  | 1            |\n",
    "| Div_BCDContact            | varchar(25)  | 1            |\n",
    "| Div_OtherEmailContact     | varchar(50)  | 1            |\n",
    "| Div_MsnryAcctContact      | varchar(25)  | 1            |\n",
    "| Div_EmailMsnryAcctContact | varchar(25)  | 1            |\n",
    "| Div_GCAssocSecForDiv      | varchar(25)  | 1            |\n",
    "| Div_GCAssocSecID          | int          | 1            |\n",
    "| Div_SecExt                | char(5)      | 1            |\n",
    "| Div_SEC_desk              | int          | 1            |\n",
    "| Div_TRIPS_Assoc           | int          | 1            |\n",
    "| Div_Base_HRContact        | int          | 1            |\n",
    "| Div_BaseSECContact        | int          | 1            |\n",
    "| Div_BaseTREContact        | int          | 1            |\n",
    "| Div_Base_TravelContact    | int          | 1            |\n",
    "| Div_Host_HRContact        | int          | 1            |\n",
    "| Div_EntryPerson           | varchar(35)  | 1            |\n",
    "| Div_EntryDate             | datetime     | 1            |\n",
    "| Div_UpdatePerson          | varchar(35)  | 1            |\n",
    "| Div_UpdateDate            | datetime     | 1            |\n",
    "| Div_AuditFlag             | char(1)      | 1            |\n",
    "| Div_CodeForProcessing     | varchar(6)   | 1            |"
   ]
  },
  {
   "cell_type": "markdown",
   "metadata": {},
   "source": [
    "## Import libraries"
   ]
  },
  {
   "cell_type": "code",
   "execution_count": 2,
   "metadata": {},
   "outputs": [],
   "source": [
    "import pandas as pd"
   ]
  },
  {
   "cell_type": "markdown",
   "metadata": {},
   "source": [
    "## Read data frame"
   ]
  },
  {
   "cell_type": "code",
   "execution_count": 6,
   "metadata": {},
   "outputs": [
    {
     "ename": "KeyError",
     "evalue": "0",
     "output_type": "error",
     "traceback": [
      "\u001b[1;31m---------------------------------------------------------------------------\u001b[0m",
      "\u001b[1;31mKeyError\u001b[0m                                  Traceback (most recent call last)",
      "File \u001b[1;32m~\\AppData\\Local\\Packages\\PythonSoftwareFoundation.Python.3.11_qbz5n2kfra8p0\\LocalCache\\local-packages\\Python311\\site-packages\\pandas\\core\\indexes\\base.py:3790\u001b[0m, in \u001b[0;36mIndex.get_loc\u001b[1;34m(self, key)\u001b[0m\n\u001b[0;32m   3789\u001b[0m \u001b[39mtry\u001b[39;00m:\n\u001b[1;32m-> 3790\u001b[0m     \u001b[39mreturn\u001b[39;00m \u001b[39mself\u001b[39;49m\u001b[39m.\u001b[39;49m_engine\u001b[39m.\u001b[39;49mget_loc(casted_key)\n\u001b[0;32m   3791\u001b[0m \u001b[39mexcept\u001b[39;00m \u001b[39mKeyError\u001b[39;00m \u001b[39mas\u001b[39;00m err:\n",
      "File \u001b[1;32mindex.pyx:152\u001b[0m, in \u001b[0;36mpandas._libs.index.IndexEngine.get_loc\u001b[1;34m()\u001b[0m\n",
      "File \u001b[1;32mindex.pyx:181\u001b[0m, in \u001b[0;36mpandas._libs.index.IndexEngine.get_loc\u001b[1;34m()\u001b[0m\n",
      "File \u001b[1;32mpandas\\_libs\\hashtable_class_helper.pxi:7080\u001b[0m, in \u001b[0;36mpandas._libs.hashtable.PyObjectHashTable.get_item\u001b[1;34m()\u001b[0m\n",
      "File \u001b[1;32mpandas\\_libs\\hashtable_class_helper.pxi:7088\u001b[0m, in \u001b[0;36mpandas._libs.hashtable.PyObjectHashTable.get_item\u001b[1;34m()\u001b[0m\n",
      "\u001b[1;31mKeyError\u001b[0m: 0",
      "\nThe above exception was the direct cause of the following exception:\n",
      "\u001b[1;31mKeyError\u001b[0m                                  Traceback (most recent call last)",
      "\u001b[1;32mc:\\Users\\HernandezS\\IPRS Policy Notes\\Data Analysis\\HR_division.ipynb Cell 7\u001b[0m line \u001b[0;36m3\n\u001b[0;32m      <a href='vscode-notebook-cell:/c%3A/Users/HernandezS/IPRS%20Policy%20Notes/Data%20Analysis/HR_division.ipynb#X13sZmlsZQ%3D%3D?line=0'>1</a>\u001b[0m path \u001b[39m=\u001b[39m \u001b[39mr\u001b[39m\u001b[39m\"\u001b[39m\u001b[39mC:\u001b[39m\u001b[39m\\\u001b[39m\u001b[39mUsers\u001b[39m\u001b[39m\\\u001b[39m\u001b[39mHernandezS\u001b[39m\u001b[39m\\\u001b[39m\u001b[39mIPRS Policy Notes\u001b[39m\u001b[39m\\\u001b[39m\u001b[39mData Analysis\u001b[39m\u001b[39m\\\u001b[39m\u001b[39mdbo.HR_Division.csv\u001b[39m\u001b[39m\"\u001b[39m\n\u001b[0;32m      <a href='vscode-notebook-cell:/c%3A/Users/HernandezS/IPRS%20Policy%20Notes/Data%20Analysis/HR_division.ipynb#X13sZmlsZQ%3D%3D?line=1'>2</a>\u001b[0m df \u001b[39m=\u001b[39m pd\u001b[39m.\u001b[39mread_csv(path)\n\u001b[1;32m----> <a href='vscode-notebook-cell:/c%3A/Users/HernandezS/IPRS%20Policy%20Notes/Data%20Analysis/HR_division.ipynb#X13sZmlsZQ%3D%3D?line=2'>3</a>\u001b[0m \u001b[39mprint\u001b[39m(df[\u001b[39m0\u001b[39;49m])\n",
      "File \u001b[1;32m~\\AppData\\Local\\Packages\\PythonSoftwareFoundation.Python.3.11_qbz5n2kfra8p0\\LocalCache\\local-packages\\Python311\\site-packages\\pandas\\core\\frame.py:3893\u001b[0m, in \u001b[0;36mDataFrame.__getitem__\u001b[1;34m(self, key)\u001b[0m\n\u001b[0;32m   3891\u001b[0m \u001b[39mif\u001b[39;00m \u001b[39mself\u001b[39m\u001b[39m.\u001b[39mcolumns\u001b[39m.\u001b[39mnlevels \u001b[39m>\u001b[39m \u001b[39m1\u001b[39m:\n\u001b[0;32m   3892\u001b[0m     \u001b[39mreturn\u001b[39;00m \u001b[39mself\u001b[39m\u001b[39m.\u001b[39m_getitem_multilevel(key)\n\u001b[1;32m-> 3893\u001b[0m indexer \u001b[39m=\u001b[39m \u001b[39mself\u001b[39;49m\u001b[39m.\u001b[39;49mcolumns\u001b[39m.\u001b[39;49mget_loc(key)\n\u001b[0;32m   3894\u001b[0m \u001b[39mif\u001b[39;00m is_integer(indexer):\n\u001b[0;32m   3895\u001b[0m     indexer \u001b[39m=\u001b[39m [indexer]\n",
      "File \u001b[1;32m~\\AppData\\Local\\Packages\\PythonSoftwareFoundation.Python.3.11_qbz5n2kfra8p0\\LocalCache\\local-packages\\Python311\\site-packages\\pandas\\core\\indexes\\base.py:3797\u001b[0m, in \u001b[0;36mIndex.get_loc\u001b[1;34m(self, key)\u001b[0m\n\u001b[0;32m   3792\u001b[0m     \u001b[39mif\u001b[39;00m \u001b[39misinstance\u001b[39m(casted_key, \u001b[39mslice\u001b[39m) \u001b[39mor\u001b[39;00m (\n\u001b[0;32m   3793\u001b[0m         \u001b[39misinstance\u001b[39m(casted_key, abc\u001b[39m.\u001b[39mIterable)\n\u001b[0;32m   3794\u001b[0m         \u001b[39mand\u001b[39;00m \u001b[39many\u001b[39m(\u001b[39misinstance\u001b[39m(x, \u001b[39mslice\u001b[39m) \u001b[39mfor\u001b[39;00m x \u001b[39min\u001b[39;00m casted_key)\n\u001b[0;32m   3795\u001b[0m     ):\n\u001b[0;32m   3796\u001b[0m         \u001b[39mraise\u001b[39;00m InvalidIndexError(key)\n\u001b[1;32m-> 3797\u001b[0m     \u001b[39mraise\u001b[39;00m \u001b[39mKeyError\u001b[39;00m(key) \u001b[39mfrom\u001b[39;00m \u001b[39merr\u001b[39;00m\n\u001b[0;32m   3798\u001b[0m \u001b[39mexcept\u001b[39;00m \u001b[39mTypeError\u001b[39;00m:\n\u001b[0;32m   3799\u001b[0m     \u001b[39m# If we have a listlike key, _check_indexing_error will raise\u001b[39;00m\n\u001b[0;32m   3800\u001b[0m     \u001b[39m#  InvalidIndexError. Otherwise we fall through and re-raise\u001b[39;00m\n\u001b[0;32m   3801\u001b[0m     \u001b[39m#  the TypeError.\u001b[39;00m\n\u001b[0;32m   3802\u001b[0m     \u001b[39mself\u001b[39m\u001b[39m.\u001b[39m_check_indexing_error(key)\n",
      "\u001b[1;31mKeyError\u001b[0m: 0"
     ]
    }
   ],
   "source": [
    "path = r\"C:\\Users\\HernandezS\\IPRS Policy Notes\\Data Analysis\\dbo.HR_Division.csv\"\n",
    "df = pd.read_csv(path)\n",
    "print(df[0])"
   ]
  }
 ],
 "metadata": {
  "kernelspec": {
   "display_name": "Python 3",
   "language": "python",
   "name": "python3"
  },
  "language_info": {
   "codemirror_mode": {
    "name": "ipython",
    "version": 3
   },
   "file_extension": ".py",
   "mimetype": "text/x-python",
   "name": "python",
   "nbconvert_exporter": "python",
   "pygments_lexer": "ipython3",
   "version": "3.11.6"
  }
 },
 "nbformat": 4,
 "nbformat_minor": 2
}
